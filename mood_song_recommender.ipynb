{
 "cells": [
  {
   "cell_type": "code",
   "execution_count": 1,
   "id": "b802a754",
   "metadata": {},
   "outputs": [
    {
     "name": "stdout",
     "output_type": "stream",
     "text": [
      "✅ songs.csv file created successfully!\n"
     ]
    }
   ],
   "source": [
    "import pandas as pd\n",
    "\n",
    "# Create mood-song data\n",
    "data = {\n",
    "    'mood': ['happy', 'sad', 'energetic', 'relaxed', 'angry', 'love', 'motivated', 'bored', 'tired', 'confused'],\n",
    "    'song': [\n",
    "        'Pharrell Williams - Happy',\n",
    "        'Adele - Someone Like You',\n",
    "        'Eminem - Lose Yourself',\n",
    "        'Coldplay - Yellow',\n",
    "        'Linkin Park - Numb',\n",
    "        'Ed Sheeran - Perfect',\n",
    "        'Imagine Dragons - Believer',\n",
    "        'Billie Eilish - Everything I Wanted',\n",
    "        'James Arthur - Say You Won’t Let Go',\n",
    "        'Taylor Swift - Blank Space'\n",
    "    ]\n",
    "}\n",
    "\n",
    "df = pd.DataFrame(data)\n",
    "df.to_csv(\"songs.csv\", index=False)\n",
    "print(\"✅ songs.csv file created successfully!\")\n"
   ]
  },
  {
   "cell_type": "code",
   "execution_count": 2,
   "id": "68ba5318",
   "metadata": {},
   "outputs": [
    {
     "name": "stdout",
     "output_type": "stream",
     "text": [
      "How are you feeling today? bored\n",
      "\n",
      "🎧 Detected Mood: Bored\n",
      "🎵 Recommended Song: Billie Eilish - Everything I Wanted\n"
     ]
    }
   ],
   "source": [
    "import pandas as pd\n",
    "from sklearn.feature_extraction.text import TfidfVectorizer\n",
    "from sklearn.metrics.pairwise import cosine_similarity\n",
    "\n",
    "# Step 1: Load your mood-song dataset\n",
    "data = pd.read_csv(\"songs.csv\")\n",
    "\n",
    "# Step 2: Get moods and songs as lists\n",
    "moods = data['mood'].tolist()\n",
    "songs = data['song'].tolist()\n",
    "\n",
    "# Step 3: Get user input\n",
    "user_input = input(\"How are you feeling today? \")\n",
    "\n",
    "# Step 4: Combine user input with mood list\n",
    "texts = moods + [user_input]\n",
    "\n",
    "# Step 5: TF-IDF vectorization\n",
    "vectorizer = TfidfVectorizer()\n",
    "tfidf_matrix = vectorizer.fit_transform(texts)\n",
    "\n",
    "# Step 6: Compute cosine similarity\n",
    "similarities = cosine_similarity(tfidf_matrix[-1], tfidf_matrix[:-1])\n",
    "best_match_index = similarities.argmax()\n",
    "\n",
    "# Step 7: Get result\n",
    "matched_mood = moods[best_match_index]\n",
    "matched_song = songs[best_match_index]\n",
    "\n",
    "# Step 8: Show result\n",
    "print(\"\\n🎧 Detected Mood:\", matched_mood.capitalize())\n",
    "print(\"🎵 Recommended Song:\", matched_song)\n"
   ]
  },
  {
   "cell_type": "code",
   "execution_count": 3,
   "id": "b295f8d9",
   "metadata": {},
   "outputs": [
    {
     "name": "stdout",
     "output_type": "stream",
     "text": [
      "['.ipynb_checkpoints', 'mood_song_recommender.ipynb', 'songs.csv']\n"
     ]
    }
   ],
   "source": [
    "import os\n",
    "print(os.listdir())\n"
   ]
  },
  {
   "cell_type": "code",
   "execution_count": 1,
   "id": "0762362e",
   "metadata": {},
   "outputs": [
    {
     "ename": "SyntaxError",
     "evalue": "invalid syntax (2783512668.py, line 1)",
     "output_type": "error",
     "traceback": [
      "\u001b[1;36m  Cell \u001b[1;32mIn[1], line 1\u001b[1;36m\u001b[0m\n\u001b[1;33m    python fix_thumbnails.py\u001b[0m\n\u001b[1;37m           ^\u001b[0m\n\u001b[1;31mSyntaxError\u001b[0m\u001b[1;31m:\u001b[0m invalid syntax\n"
     ]
    }
   ],
   "source": [
    "python fix_thumbnails.py\n"
   ]
  },
  {
   "cell_type": "code",
   "execution_count": null,
   "id": "8aff3704",
   "metadata": {},
   "outputs": [],
   "source": []
  }
 ],
 "metadata": {
  "kernelspec": {
   "display_name": "Python 3 (ipykernel)",
   "language": "python",
   "name": "python3"
  },
  "language_info": {
   "codemirror_mode": {
    "name": "ipython",
    "version": 3
   },
   "file_extension": ".py",
   "mimetype": "text/x-python",
   "name": "python",
   "nbconvert_exporter": "python",
   "pygments_lexer": "ipython3",
   "version": "3.11.4"
  }
 },
 "nbformat": 4,
 "nbformat_minor": 5
}
